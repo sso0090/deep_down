{
  "cells": [
    {
      "cell_type": "code",
      "source": [
        "#hide\n",
        "from your_lib.core import *"
      ],
      "outputs": [],
      "execution_count": null,
      "metadata": {}
    },
    {
      "cell_type": "markdown",
      "source": [
        "# This is a repo easy examples for fastai.\n",
        "\n",
        "> This repo is for deep learning tryouts."
      ],
      "metadata": {}
    },
    {
      "cell_type": "markdown",
      "source": [
        "This file will become your README and also the index of your documentation."
      ],
      "metadata": {}
    },
    {
      "cell_type": "markdown",
      "source": [
        "## Install"
      ],
      "metadata": {}
    },
    {
      "cell_type": "markdown",
      "source": [
        "`pip install deep_down`"
      ],
      "metadata": {}
    },
    {
      "cell_type": "markdown",
      "source": [
        "## How to use"
      ],
      "metadata": {}
    },
    {
      "cell_type": "markdown",
      "source": [
        "Some examples to come!"
      ],
      "metadata": {}
    },
    {
      "cell_type": "code",
      "source": [
        "1+1"
      ],
      "outputs": [
        {
          "output_type": "execute_result",
          "execution_count": 1,
          "data": {
            "text/plain": "2"
          },
          "metadata": {}
        }
      ],
      "execution_count": 1,
      "metadata": {
        "execution": {
          "iopub.status.busy": "2021-08-06T11:02:59.436Z",
          "iopub.execute_input": "2021-08-06T11:02:59.439Z",
          "iopub.status.idle": "2021-08-06T11:02:59.456Z",
          "shell.execute_reply": "2021-08-06T11:02:59.467Z"
        }
      }
    },
    {
      "cell_type": "code",
      "source": [
        "3+3"
      ],
      "outputs": [
        {
          "output_type": "execute_result",
          "execution_count": 2,
          "data": {
            "text/plain": "6"
          },
          "metadata": {}
        }
      ],
      "execution_count": 2,
      "metadata": {
        "execution": {
          "iopub.status.busy": "2021-08-06T11:03:03.535Z",
          "iopub.execute_input": "2021-08-06T11:03:03.540Z",
          "iopub.status.idle": "2021-08-06T11:03:03.554Z",
          "shell.execute_reply": "2021-08-06T11:03:03.562Z"
        }
      }
    },
    {
      "cell_type": "code",
      "source": [],
      "outputs": [],
      "execution_count": null,
      "metadata": {
        "collapsed": true,
        "jupyter": {
          "source_hidden": false,
          "outputs_hidden": false
        },
        "nteract": {
          "transient": {
            "deleting": false
          }
        }
      }
    }
  ],
  "metadata": {
    "kernelspec": {
      "display_name": "Python 3",
      "language": "python",
      "name": "python3"
    },
    "language_info": {
      "name": "python",
      "version": "3.8.11",
      "mimetype": "text/x-python",
      "codemirror_mode": {
        "name": "ipython",
        "version": 3
      },
      "pygments_lexer": "ipython3",
      "nbconvert_exporter": "python",
      "file_extension": ".py"
    },
    "nteract": {
      "version": "0.28.0"
    }
  },
  "nbformat": 4,
  "nbformat_minor": 2
}