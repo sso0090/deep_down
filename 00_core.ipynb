{
  "cells": [
    {
      "cell_type": "code",
      "source": [
        "# default_exp core"
      ],
      "outputs": [],
      "execution_count": null,
      "metadata": {}
    },
    {
      "cell_type": "markdown",
      "source": [
        "# deep_down\n",
        "\n",
        "> API details."
      ],
      "metadata": {}
    },
    {
      "cell_type": "code",
      "source": [
        "#hide\n",
        "from nbdev.showdoc import *"
      ],
      "outputs": [],
      "execution_count": 1,
      "metadata": {
        "execution": {
          "iopub.status.busy": "2021-08-06T11:04:21.352Z",
          "iopub.execute_input": "2021-08-06T11:04:21.356Z",
          "shell.execute_reply": "2021-08-06T11:04:26.339Z",
          "iopub.status.idle": "2021-08-06T11:04:26.349Z"
        }
      }
    },
    {
      "cell_type": "code",
      "source": [
        "3+3+5"
      ],
      "outputs": [
        {
          "output_type": "execute_result",
          "execution_count": 2,
          "data": {
            "text/plain": "11"
          },
          "metadata": {}
        }
      ],
      "execution_count": 2,
      "metadata": {
        "execution": {
          "iopub.status.busy": "2021-08-06T11:04:26.965Z",
          "iopub.execute_input": "2021-08-06T11:04:26.971Z",
          "iopub.status.idle": "2021-08-06T11:04:26.989Z",
          "shell.execute_reply": "2021-08-06T11:04:26.993Z"
        }
      }
    },
    {
      "cell_type": "code",
      "source": [],
      "outputs": [],
      "execution_count": null,
      "metadata": {
        "collapsed": true,
        "jupyter": {
          "source_hidden": false,
          "outputs_hidden": false
        },
        "nteract": {
          "transient": {
            "deleting": false
          }
        }
      }
    }
  ],
  "metadata": {
    "kernelspec": {
      "display_name": "Python 3",
      "language": "python",
      "name": "python3"
    },
    "language_info": {
      "name": "python",
      "version": "3.8.11",
      "mimetype": "text/x-python",
      "codemirror_mode": {
        "name": "ipython",
        "version": 3
      },
      "pygments_lexer": "ipython3",
      "nbconvert_exporter": "python",
      "file_extension": ".py"
    },
    "nteract": {
      "version": "0.28.0"
    }
  },
  "nbformat": 4,
  "nbformat_minor": 2
}