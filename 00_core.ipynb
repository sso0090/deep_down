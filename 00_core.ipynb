{
  "cells": [
    {
      "cell_type": "code",
      "source": [
        "# default_exp core"
      ],
      "outputs": [],
      "execution_count": 2,
      "metadata": {
        "execution": {
          "iopub.status.busy": "2021-08-08T10:25:23.732Z",
          "iopub.execute_input": "2021-08-08T10:25:23.746Z",
          "iopub.status.idle": "2021-08-08T10:25:23.761Z",
          "shell.execute_reply": "2021-08-08T10:25:23.766Z"
        }
      }
    },
    {
      "cell_type": "markdown",
      "source": [
        "# deep_down\n",
        "\n",
        "> API details."
      ],
      "metadata": {}
    },
    {
      "cell_type": "code",
      "source": [
        "#hide\n",
        "from nbdev.showdoc import *"
      ],
      "outputs": [],
      "execution_count": 3,
      "metadata": {
        "execution": {
          "iopub.status.busy": "2021-08-08T10:25:25.107Z",
          "iopub.execute_input": "2021-08-08T10:25:25.115Z",
          "shell.execute_reply": "2021-08-08T10:25:27.672Z",
          "iopub.status.idle": "2021-08-08T10:25:27.693Z"
        }
      }
    },
    {
      "cell_type": "code",
      "source": [
        "3+3+5"
      ],
      "outputs": [
        {
          "output_type": "execute_result",
          "execution_count": 4,
          "data": {
            "text/plain": "11"
          },
          "metadata": {}
        }
      ],
      "execution_count": 4,
      "metadata": {
        "execution": {
          "iopub.status.busy": "2021-08-08T10:25:27.710Z",
          "iopub.execute_input": "2021-08-08T10:25:27.717Z",
          "iopub.status.idle": "2021-08-08T10:25:27.728Z",
          "shell.execute_reply": "2021-08-08T10:25:27.780Z"
        }
      }
    },
    {
      "cell_type": "code",
      "source": [
        "#export\n",
        "def say_hello(to):\n",
        "    \"Say hello to somebody\"\n",
        "    return f'Hello {to}!'"
      ],
      "outputs": [],
      "execution_count": 5,
      "metadata": {
        "collapsed": true,
        "jupyter": {
          "source_hidden": false,
          "outputs_hidden": false
        },
        "nteract": {
          "transient": {
            "deleting": false
          }
        },
        "execution": {
          "iopub.status.busy": "2021-08-08T10:25:27.734Z",
          "iopub.execute_input": "2021-08-08T10:25:27.739Z",
          "iopub.status.idle": "2021-08-08T10:25:27.747Z",
          "shell.execute_reply": "2021-08-08T10:25:27.784Z"
        }
      }
    },
    {
      "cell_type": "code",
      "source": [
        "say_hello(\"SSO\")"
      ],
      "outputs": [
        {
          "output_type": "execute_result",
          "execution_count": 6,
          "data": {
            "text/plain": "'Hello SSO!'"
          },
          "metadata": {}
        }
      ],
      "execution_count": 6,
      "metadata": {
        "collapsed": true,
        "jupyter": {
          "source_hidden": false,
          "outputs_hidden": false
        },
        "nteract": {
          "transient": {
            "deleting": false
          }
        },
        "execution": {
          "iopub.status.busy": "2021-08-08T10:25:27.802Z",
          "iopub.execute_input": "2021-08-08T10:25:27.806Z",
          "iopub.status.idle": "2021-08-08T10:25:27.814Z",
          "shell.execute_reply": "2021-08-08T10:25:27.788Z"
        }
      }
    },
    {
      "cell_type": "code",
      "source": [
        "#hide\n",
        "!nbdev_build_lib"
      ],
      "outputs": [
        {
          "output_type": "stream",
          "name": "stdout",
          "text": [
            "Converted 00_core.ipynb.\n",
            "Converted index.ipynb.\n"
          ]
        }
      ],
      "execution_count": 10,
      "metadata": {
        "collapsed": true,
        "jupyter": {
          "source_hidden": false,
          "outputs_hidden": false
        },
        "nteract": {
          "transient": {
            "deleting": false
          }
        },
        "execution": {
          "iopub.status.busy": "2021-08-08T11:23:32.961Z",
          "iopub.execute_input": "2021-08-08T11:23:32.971Z",
          "iopub.status.idle": "2021-08-08T11:23:34.350Z",
          "shell.execute_reply": "2021-08-08T11:23:34.361Z"
        }
      }
    },
    {
      "cell_type": "code",
      "source": [
        "#hide\n",
        "!nbdev_clean_nbs\n",
        "!nbdev_read_nbs"
      ],
      "outputs": [],
      "execution_count": 11,
      "metadata": {
        "collapsed": true,
        "jupyter": {
          "source_hidden": false,
          "outputs_hidden": false
        },
        "nteract": {
          "transient": {
            "deleting": false
          }
        },
        "execution": {
          "iopub.status.busy": "2021-08-08T11:23:36.259Z",
          "iopub.execute_input": "2021-08-08T11:23:36.268Z",
          "shell.execute_reply": "2021-08-08T11:23:03.093Z",
          "iopub.status.idle": "2021-08-08T11:23:03.106Z"
        }
      }
    },
    {
      "cell_type": "code",
      "source": [],
      "outputs": [],
      "execution_count": null,
      "metadata": {
        "collapsed": true,
        "jupyter": {
          "source_hidden": false,
          "outputs_hidden": false
        },
        "nteract": {
          "transient": {
            "deleting": false
          }
        }
      }
    }
  ],
  "metadata": {
    "kernelspec": {
      "display_name": "Python 3",
      "language": "python",
      "name": "python3"
    },
    "language_info": {
      "name": "python",
      "version": "3.8.11",
      "mimetype": "text/x-python",
      "codemirror_mode": {
        "name": "ipython",
        "version": 3
      },
      "pygments_lexer": "ipython3",
      "nbconvert_exporter": "python",
      "file_extension": ".py"
    },
    "nteract": {
      "version": "0.28.0"
    }
  },
  "nbformat": 4,
  "nbformat_minor": 2
}